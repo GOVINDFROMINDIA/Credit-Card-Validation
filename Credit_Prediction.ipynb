{
  "nbformat": 4,
  "nbformat_minor": 0,
  "metadata": {
    "colab": {
      "provenance": [],
      "include_colab_link": true
    },
    "kernelspec": {
      "name": "python3",
      "display_name": "Python 3"
    },
    "language_info": {
      "name": "python"
    }
  },
  "cells": [
    {
      "cell_type": "markdown",
      "metadata": {
        "id": "view-in-github",
        "colab_type": "text"
      },
      "source": [
        "<a href=\"https://colab.research.google.com/github/GOVINDFROMINDIA/Credit-Card-Validation/blob/main/Credit_Prediction.ipynb\" target=\"_parent\"><img src=\"https://colab.research.google.com/assets/colab-badge.svg\" alt=\"Open In Colab\"/></a>"
      ]
    },
    {
      "cell_type": "markdown",
      "source": [
        "**PACKAGES**"
      ],
      "metadata": {
        "id": "xCNlh_R_Hxqj"
      }
    },
    {
      "cell_type": "code",
      "execution_count": 1,
      "metadata": {
        "id": "7LIoCn81G9I6"
      },
      "outputs": [],
      "source": [
        "import pandas as pd\n",
        "import numpy as np\n",
        "import seaborn as sns\n",
        "import matplotlib.pyplot as plt\n",
        "\n",
        "from sklearn import datasets, metrics\n",
        "from sklearn.model_selection import train_test_split\n",
        "from sklearn.ensemble import RandomForestRegressor\n"
      ]
    },
    {
      "cell_type": "markdown",
      "source": [
        "**DATA HANDLING**"
      ],
      "metadata": {
        "id": "8dJKgdrGIqy_"
      }
    },
    {
      "cell_type": "code",
      "source": [
        "df=pd.read_csv('/content/Application_Data.csv')\n",
        "df.head()"
      ],
      "metadata": {
        "colab": {
          "base_uri": "https://localhost:8080/",
          "height": 473
        },
        "id": "DNeHe-WDIvag",
        "outputId": "b1e51ba2-ef5a-4f51-f434-56183c15667e"
      },
      "execution_count": 10,
      "outputs": [
        {
          "output_type": "execute_result",
          "data": {
            "text/plain": [
              "   Applicant_ID Applicant_Gender  Owned_Car  Owned_Realty  Total_Children  \\\n",
              "0       5008806          M                1             1               0   \n",
              "1       5008808          F                0             1               0   \n",
              "2       5008809          F                0             1               0   \n",
              "3       5008810          F                0             1               0   \n",
              "4       5008811          F                0             1               0   \n",
              "\n",
              "   Total_Income                                        Income_Type  \\\n",
              "0        112500  Working                                       ...   \n",
              "1        270000  Commercial associate                          ...   \n",
              "2        270000  Commercial associate                          ...   \n",
              "3        270000  Commercial associate                          ...   \n",
              "4        270000  Commercial associate                          ...   \n",
              "\n",
              "                                      Education_Type  \\\n",
              "0  Secondary / secondary special                 ...   \n",
              "1  Secondary / secondary special                 ...   \n",
              "2  Secondary / secondary special                 ...   \n",
              "3  Secondary / secondary special                 ...   \n",
              "4  Secondary / secondary special                 ...   \n",
              "\n",
              "                                       Family_Status  \\\n",
              "0  Married                                       ...   \n",
              "1  Single / not married                          ...   \n",
              "2  Single / not married                          ...   \n",
              "3  Single / not married                          ...   \n",
              "4  Single / not married                          ...   \n",
              "\n",
              "                                        Housing_Type  ...  Owned_Work_Phone  \\\n",
              "0  House / apartment                             ...  ...                 0   \n",
              "1  House / apartment                             ...  ...                 0   \n",
              "2  House / apartment                             ...  ...                 0   \n",
              "3  House / apartment                             ...  ...                 0   \n",
              "4  House / apartment                             ...  ...                 0   \n",
              "\n",
              "   Owned_Phone  Owned_Email  \\\n",
              "0            0            0   \n",
              "1            1            1   \n",
              "2            1            1   \n",
              "3            1            1   \n",
              "4            1            1   \n",
              "\n",
              "                                           Job_Title Total_Family_Members  \\\n",
              "0  Security staff                                ...                    2   \n",
              "1  Sales staff                                   ...                    1   \n",
              "2  Sales staff                                   ...                    1   \n",
              "3  Sales staff                                   ...                    1   \n",
              "4  Sales staff                                   ...                    1   \n",
              "\n",
              "   Applicant_Age  Years_of_Working  Total_Bad_Debt  Total_Good_Debt  Status  \n",
              "0             59                 4               0               30       1  \n",
              "1             53                 9               0                5       1  \n",
              "2             53                 9               0                5       1  \n",
              "3             53                 9               0               27       1  \n",
              "4             53                 9               0               39       1  \n",
              "\n",
              "[5 rows x 21 columns]"
            ],
            "text/html": [
              "\n",
              "  <div id=\"df-266c2219-bddf-4420-af28-d509400584c0\">\n",
              "    <div class=\"colab-df-container\">\n",
              "      <div>\n",
              "<style scoped>\n",
              "    .dataframe tbody tr th:only-of-type {\n",
              "        vertical-align: middle;\n",
              "    }\n",
              "\n",
              "    .dataframe tbody tr th {\n",
              "        vertical-align: top;\n",
              "    }\n",
              "\n",
              "    .dataframe thead th {\n",
              "        text-align: right;\n",
              "    }\n",
              "</style>\n",
              "<table border=\"1\" class=\"dataframe\">\n",
              "  <thead>\n",
              "    <tr style=\"text-align: right;\">\n",
              "      <th></th>\n",
              "      <th>Applicant_ID</th>\n",
              "      <th>Applicant_Gender</th>\n",
              "      <th>Owned_Car</th>\n",
              "      <th>Owned_Realty</th>\n",
              "      <th>Total_Children</th>\n",
              "      <th>Total_Income</th>\n",
              "      <th>Income_Type</th>\n",
              "      <th>Education_Type</th>\n",
              "      <th>Family_Status</th>\n",
              "      <th>Housing_Type</th>\n",
              "      <th>...</th>\n",
              "      <th>Owned_Work_Phone</th>\n",
              "      <th>Owned_Phone</th>\n",
              "      <th>Owned_Email</th>\n",
              "      <th>Job_Title</th>\n",
              "      <th>Total_Family_Members</th>\n",
              "      <th>Applicant_Age</th>\n",
              "      <th>Years_of_Working</th>\n",
              "      <th>Total_Bad_Debt</th>\n",
              "      <th>Total_Good_Debt</th>\n",
              "      <th>Status</th>\n",
              "    </tr>\n",
              "  </thead>\n",
              "  <tbody>\n",
              "    <tr>\n",
              "      <th>0</th>\n",
              "      <td>5008806</td>\n",
              "      <td>M</td>\n",
              "      <td>1</td>\n",
              "      <td>1</td>\n",
              "      <td>0</td>\n",
              "      <td>112500</td>\n",
              "      <td>Working                                       ...</td>\n",
              "      <td>Secondary / secondary special                 ...</td>\n",
              "      <td>Married                                       ...</td>\n",
              "      <td>House / apartment                             ...</td>\n",
              "      <td>...</td>\n",
              "      <td>0</td>\n",
              "      <td>0</td>\n",
              "      <td>0</td>\n",
              "      <td>Security staff                                ...</td>\n",
              "      <td>2</td>\n",
              "      <td>59</td>\n",
              "      <td>4</td>\n",
              "      <td>0</td>\n",
              "      <td>30</td>\n",
              "      <td>1</td>\n",
              "    </tr>\n",
              "    <tr>\n",
              "      <th>1</th>\n",
              "      <td>5008808</td>\n",
              "      <td>F</td>\n",
              "      <td>0</td>\n",
              "      <td>1</td>\n",
              "      <td>0</td>\n",
              "      <td>270000</td>\n",
              "      <td>Commercial associate                          ...</td>\n",
              "      <td>Secondary / secondary special                 ...</td>\n",
              "      <td>Single / not married                          ...</td>\n",
              "      <td>House / apartment                             ...</td>\n",
              "      <td>...</td>\n",
              "      <td>0</td>\n",
              "      <td>1</td>\n",
              "      <td>1</td>\n",
              "      <td>Sales staff                                   ...</td>\n",
              "      <td>1</td>\n",
              "      <td>53</td>\n",
              "      <td>9</td>\n",
              "      <td>0</td>\n",
              "      <td>5</td>\n",
              "      <td>1</td>\n",
              "    </tr>\n",
              "    <tr>\n",
              "      <th>2</th>\n",
              "      <td>5008809</td>\n",
              "      <td>F</td>\n",
              "      <td>0</td>\n",
              "      <td>1</td>\n",
              "      <td>0</td>\n",
              "      <td>270000</td>\n",
              "      <td>Commercial associate                          ...</td>\n",
              "      <td>Secondary / secondary special                 ...</td>\n",
              "      <td>Single / not married                          ...</td>\n",
              "      <td>House / apartment                             ...</td>\n",
              "      <td>...</td>\n",
              "      <td>0</td>\n",
              "      <td>1</td>\n",
              "      <td>1</td>\n",
              "      <td>Sales staff                                   ...</td>\n",
              "      <td>1</td>\n",
              "      <td>53</td>\n",
              "      <td>9</td>\n",
              "      <td>0</td>\n",
              "      <td>5</td>\n",
              "      <td>1</td>\n",
              "    </tr>\n",
              "    <tr>\n",
              "      <th>3</th>\n",
              "      <td>5008810</td>\n",
              "      <td>F</td>\n",
              "      <td>0</td>\n",
              "      <td>1</td>\n",
              "      <td>0</td>\n",
              "      <td>270000</td>\n",
              "      <td>Commercial associate                          ...</td>\n",
              "      <td>Secondary / secondary special                 ...</td>\n",
              "      <td>Single / not married                          ...</td>\n",
              "      <td>House / apartment                             ...</td>\n",
              "      <td>...</td>\n",
              "      <td>0</td>\n",
              "      <td>1</td>\n",
              "      <td>1</td>\n",
              "      <td>Sales staff                                   ...</td>\n",
              "      <td>1</td>\n",
              "      <td>53</td>\n",
              "      <td>9</td>\n",
              "      <td>0</td>\n",
              "      <td>27</td>\n",
              "      <td>1</td>\n",
              "    </tr>\n",
              "    <tr>\n",
              "      <th>4</th>\n",
              "      <td>5008811</td>\n",
              "      <td>F</td>\n",
              "      <td>0</td>\n",
              "      <td>1</td>\n",
              "      <td>0</td>\n",
              "      <td>270000</td>\n",
              "      <td>Commercial associate                          ...</td>\n",
              "      <td>Secondary / secondary special                 ...</td>\n",
              "      <td>Single / not married                          ...</td>\n",
              "      <td>House / apartment                             ...</td>\n",
              "      <td>...</td>\n",
              "      <td>0</td>\n",
              "      <td>1</td>\n",
              "      <td>1</td>\n",
              "      <td>Sales staff                                   ...</td>\n",
              "      <td>1</td>\n",
              "      <td>53</td>\n",
              "      <td>9</td>\n",
              "      <td>0</td>\n",
              "      <td>39</td>\n",
              "      <td>1</td>\n",
              "    </tr>\n",
              "  </tbody>\n",
              "</table>\n",
              "<p>5 rows × 21 columns</p>\n",
              "</div>\n",
              "      <button class=\"colab-df-convert\" onclick=\"convertToInteractive('df-266c2219-bddf-4420-af28-d509400584c0')\"\n",
              "              title=\"Convert this dataframe to an interactive table.\"\n",
              "              style=\"display:none;\">\n",
              "        \n",
              "  <svg xmlns=\"http://www.w3.org/2000/svg\" height=\"24px\"viewBox=\"0 0 24 24\"\n",
              "       width=\"24px\">\n",
              "    <path d=\"M0 0h24v24H0V0z\" fill=\"none\"/>\n",
              "    <path d=\"M18.56 5.44l.94 2.06.94-2.06 2.06-.94-2.06-.94-.94-2.06-.94 2.06-2.06.94zm-11 1L8.5 8.5l.94-2.06 2.06-.94-2.06-.94L8.5 2.5l-.94 2.06-2.06.94zm10 10l.94 2.06.94-2.06 2.06-.94-2.06-.94-.94-2.06-.94 2.06-2.06.94z\"/><path d=\"M17.41 7.96l-1.37-1.37c-.4-.4-.92-.59-1.43-.59-.52 0-1.04.2-1.43.59L10.3 9.45l-7.72 7.72c-.78.78-.78 2.05 0 2.83L4 21.41c.39.39.9.59 1.41.59.51 0 1.02-.2 1.41-.59l7.78-7.78 2.81-2.81c.8-.78.8-2.07 0-2.86zM5.41 20L4 18.59l7.72-7.72 1.47 1.35L5.41 20z\"/>\n",
              "  </svg>\n",
              "      </button>\n",
              "      \n",
              "  <style>\n",
              "    .colab-df-container {\n",
              "      display:flex;\n",
              "      flex-wrap:wrap;\n",
              "      gap: 12px;\n",
              "    }\n",
              "\n",
              "    .colab-df-convert {\n",
              "      background-color: #E8F0FE;\n",
              "      border: none;\n",
              "      border-radius: 50%;\n",
              "      cursor: pointer;\n",
              "      display: none;\n",
              "      fill: #1967D2;\n",
              "      height: 32px;\n",
              "      padding: 0 0 0 0;\n",
              "      width: 32px;\n",
              "    }\n",
              "\n",
              "    .colab-df-convert:hover {\n",
              "      background-color: #E2EBFA;\n",
              "      box-shadow: 0px 1px 2px rgba(60, 64, 67, 0.3), 0px 1px 3px 1px rgba(60, 64, 67, 0.15);\n",
              "      fill: #174EA6;\n",
              "    }\n",
              "\n",
              "    [theme=dark] .colab-df-convert {\n",
              "      background-color: #3B4455;\n",
              "      fill: #D2E3FC;\n",
              "    }\n",
              "\n",
              "    [theme=dark] .colab-df-convert:hover {\n",
              "      background-color: #434B5C;\n",
              "      box-shadow: 0px 1px 3px 1px rgba(0, 0, 0, 0.15);\n",
              "      filter: drop-shadow(0px 1px 2px rgba(0, 0, 0, 0.3));\n",
              "      fill: #FFFFFF;\n",
              "    }\n",
              "  </style>\n",
              "\n",
              "      <script>\n",
              "        const buttonEl =\n",
              "          document.querySelector('#df-266c2219-bddf-4420-af28-d509400584c0 button.colab-df-convert');\n",
              "        buttonEl.style.display =\n",
              "          google.colab.kernel.accessAllowed ? 'block' : 'none';\n",
              "\n",
              "        async function convertToInteractive(key) {\n",
              "          const element = document.querySelector('#df-266c2219-bddf-4420-af28-d509400584c0');\n",
              "          const dataTable =\n",
              "            await google.colab.kernel.invokeFunction('convertToInteractive',\n",
              "                                                     [key], {});\n",
              "          if (!dataTable) return;\n",
              "\n",
              "          const docLinkHtml = 'Like what you see? Visit the ' +\n",
              "            '<a target=\"_blank\" href=https://colab.research.google.com/notebooks/data_table.ipynb>data table notebook</a>'\n",
              "            + ' to learn more about interactive tables.';\n",
              "          element.innerHTML = '';\n",
              "          dataTable['output_type'] = 'display_data';\n",
              "          await google.colab.output.renderOutput(dataTable, element);\n",
              "          const docLink = document.createElement('div');\n",
              "          docLink.innerHTML = docLinkHtml;\n",
              "          element.appendChild(docLink);\n",
              "        }\n",
              "      </script>\n",
              "    </div>\n",
              "  </div>\n",
              "  "
            ]
          },
          "metadata": {},
          "execution_count": 10
        }
      ]
    },
    {
      "cell_type": "markdown",
      "source": [
        "**DATA PREPARATION**"
      ],
      "metadata": {
        "id": "bZRVu5ROE4Nt"
      }
    },
    {
      "cell_type": "code",
      "source": [
        "df.dropna(inplace=True)\n",
        "df.drop(['Applicant_ID','Applicant_Gender','Income_Type','Education_Type','Family_Status','Housing_Type'],axis=1, inplace=True)\n",
        "\n",
        "xVars=df.drop(['Status','Job_Title'],axis=1)\n",
        "yVars=df[['Status']]\n",
        "\n",
        "xTrain,xValid,yTrain,yValid= train_test_split(xVars,yVars,test_size=0.25, random_state=50 )\n",
        "\n",
        "print(xTrain.shape)\n",
        "print(df.shape)\n",
        "print(xValid.shape)\n",
        "print(yTrain.shape)\n",
        "print(yValid.shape)"
      ],
      "metadata": {
        "colab": {
          "base_uri": "https://localhost:8080/"
        },
        "id": "5c_pTfCtJFSx",
        "outputId": "339ef676-10b9-4aa7-ab38-f97c3dab79b6"
      },
      "execution_count": 11,
      "outputs": [
        {
          "output_type": "stream",
          "name": "stdout",
          "text": [
            "(18846, 13)\n",
            "(25128, 15)\n",
            "(6282, 13)\n",
            "(18846, 1)\n",
            "(6282, 1)\n"
          ]
        }
      ]
    },
    {
      "cell_type": "code",
      "source": [
        "print(\"X-Vars : \\n\",xVars)\n",
        "print(\"Y-Vars : \\n\",yVars)\n",
        "print(\"df : \\n\",df)"
      ],
      "metadata": {
        "colab": {
          "base_uri": "https://localhost:8080/"
        },
        "id": "mXmIbl9jBs5Y",
        "outputId": "8498c383-8bfe-4e79-9873-cf7602ce5206"
      },
      "execution_count": 12,
      "outputs": [
        {
          "output_type": "stream",
          "name": "stdout",
          "text": [
            "X-Vars : \n",
            "        Owned_Car  Owned_Realty  Total_Children  Total_Income  \\\n",
            "0              1             1               0        112500   \n",
            "1              0             1               0        270000   \n",
            "2              0             1               0        270000   \n",
            "3              0             1               0        270000   \n",
            "4              0             1               0        270000   \n",
            "...          ...           ...             ...           ...   \n",
            "25123          1             1               1        157500   \n",
            "25124          1             1               1        157500   \n",
            "25125          1             1               1        157500   \n",
            "25126          1             1               1        157500   \n",
            "25127          1             0               0        202500   \n",
            "\n",
            "       Owned_Mobile_Phone  Owned_Work_Phone  Owned_Phone  Owned_Email  \\\n",
            "0                       1                 0            0            0   \n",
            "1                       1                 0            1            1   \n",
            "2                       1                 0            1            1   \n",
            "3                       1                 0            1            1   \n",
            "4                       1                 0            1            1   \n",
            "...                   ...               ...          ...          ...   \n",
            "25123                   1                 0            0            0   \n",
            "25124                   1                 0            0            0   \n",
            "25125                   1                 0            0            0   \n",
            "25126                   1                 0            0            0   \n",
            "25127                   1                 0            0            0   \n",
            "\n",
            "       Total_Family_Members  Applicant_Age  Years_of_Working  Total_Bad_Debt  \\\n",
            "0                         2             59                 4               0   \n",
            "1                         1             53                 9               0   \n",
            "2                         1             53                 9               0   \n",
            "3                         1             53                 9               0   \n",
            "4                         1             53                 9               0   \n",
            "...                     ...            ...               ...             ...   \n",
            "25123                     3             30                 5               0   \n",
            "25124                     3             30                 5               0   \n",
            "25125                     3             30                 5               0   \n",
            "25126                     3             30                 5               0   \n",
            "25127                     2             54                 6               0   \n",
            "\n",
            "       Total_Good_Debt  \n",
            "0                   30  \n",
            "1                    5  \n",
            "2                    5  \n",
            "3                   27  \n",
            "4                   39  \n",
            "...                ...  \n",
            "25123               18  \n",
            "25124               18  \n",
            "25125               13  \n",
            "25126                2  \n",
            "25127               30  \n",
            "\n",
            "[25128 rows x 13 columns]\n",
            "Y-Vars : \n",
            "        Status\n",
            "0           1\n",
            "1           1\n",
            "2           1\n",
            "3           1\n",
            "4           1\n",
            "...       ...\n",
            "25123       1\n",
            "25124       1\n",
            "25125       1\n",
            "25126       1\n",
            "25127       1\n",
            "\n",
            "[25128 rows x 1 columns]\n",
            "df : \n",
            "        Owned_Car  Owned_Realty  Total_Children  Total_Income  \\\n",
            "0              1             1               0        112500   \n",
            "1              0             1               0        270000   \n",
            "2              0             1               0        270000   \n",
            "3              0             1               0        270000   \n",
            "4              0             1               0        270000   \n",
            "...          ...           ...             ...           ...   \n",
            "25123          1             1               1        157500   \n",
            "25124          1             1               1        157500   \n",
            "25125          1             1               1        157500   \n",
            "25126          1             1               1        157500   \n",
            "25127          1             0               0        202500   \n",
            "\n",
            "       Owned_Mobile_Phone  Owned_Work_Phone  Owned_Phone  Owned_Email  \\\n",
            "0                       1                 0            0            0   \n",
            "1                       1                 0            1            1   \n",
            "2                       1                 0            1            1   \n",
            "3                       1                 0            1            1   \n",
            "4                       1                 0            1            1   \n",
            "...                   ...               ...          ...          ...   \n",
            "25123                   1                 0            0            0   \n",
            "25124                   1                 0            0            0   \n",
            "25125                   1                 0            0            0   \n",
            "25126                   1                 0            0            0   \n",
            "25127                   1                 0            0            0   \n",
            "\n",
            "                                               Job_Title  \\\n",
            "0      Security staff                                ...   \n",
            "1      Sales staff                                   ...   \n",
            "2      Sales staff                                   ...   \n",
            "3      Sales staff                                   ...   \n",
            "4      Sales staff                                   ...   \n",
            "...                                                  ...   \n",
            "25123  Core staff                                    ...   \n",
            "25124  Core staff                                    ...   \n",
            "25125  Core staff                                    ...   \n",
            "25126  Core staff                                    ...   \n",
            "25127  Drivers                                       ...   \n",
            "\n",
            "       Total_Family_Members  Applicant_Age  Years_of_Working  Total_Bad_Debt  \\\n",
            "0                         2             59                 4               0   \n",
            "1                         1             53                 9               0   \n",
            "2                         1             53                 9               0   \n",
            "3                         1             53                 9               0   \n",
            "4                         1             53                 9               0   \n",
            "...                     ...            ...               ...             ...   \n",
            "25123                     3             30                 5               0   \n",
            "25124                     3             30                 5               0   \n",
            "25125                     3             30                 5               0   \n",
            "25126                     3             30                 5               0   \n",
            "25127                     2             54                 6               0   \n",
            "\n",
            "       Total_Good_Debt  Status  \n",
            "0                   30       1  \n",
            "1                    5       1  \n",
            "2                    5       1  \n",
            "3                   27       1  \n",
            "4                   39       1  \n",
            "...                ...     ...  \n",
            "25123               18       1  \n",
            "25124               18       1  \n",
            "25125               13       1  \n",
            "25126                2       1  \n",
            "25127               30       1  \n",
            "\n",
            "[25128 rows x 15 columns]\n"
          ]
        }
      ]
    },
    {
      "cell_type": "markdown",
      "source": [
        "**Random Forest**\n"
      ],
      "metadata": {
        "id": "Dhs7kV0QN2_Q"
      }
    },
    {
      "cell_type": "code",
      "source": [
        "regressor =RandomForestRegressor(n_estimators=1000,random_state=50 )\n",
        "regressor.fit(xTrain,yTrain)"
      ],
      "metadata": {
        "colab": {
          "base_uri": "https://localhost:8080/",
          "height": 129
        },
        "id": "26QrANnlOAJ6",
        "outputId": "5d071474-7466-4429-ca03-9d433437d91b"
      },
      "execution_count": 13,
      "outputs": [
        {
          "output_type": "stream",
          "name": "stderr",
          "text": [
            "<ipython-input-13-47dbbdc867a7>:2: DataConversionWarning: A column-vector y was passed when a 1d array was expected. Please change the shape of y to (n_samples,), for example using ravel().\n",
            "  regressor.fit(xTrain,yTrain)\n"
          ]
        },
        {
          "output_type": "execute_result",
          "data": {
            "text/plain": [
              "RandomForestRegressor(n_estimators=1000, random_state=50)"
            ],
            "text/html": [
              "<style>#sk-container-id-1 {color: black;background-color: white;}#sk-container-id-1 pre{padding: 0;}#sk-container-id-1 div.sk-toggleable {background-color: white;}#sk-container-id-1 label.sk-toggleable__label {cursor: pointer;display: block;width: 100%;margin-bottom: 0;padding: 0.3em;box-sizing: border-box;text-align: center;}#sk-container-id-1 label.sk-toggleable__label-arrow:before {content: \"▸\";float: left;margin-right: 0.25em;color: #696969;}#sk-container-id-1 label.sk-toggleable__label-arrow:hover:before {color: black;}#sk-container-id-1 div.sk-estimator:hover label.sk-toggleable__label-arrow:before {color: black;}#sk-container-id-1 div.sk-toggleable__content {max-height: 0;max-width: 0;overflow: hidden;text-align: left;background-color: #f0f8ff;}#sk-container-id-1 div.sk-toggleable__content pre {margin: 0.2em;color: black;border-radius: 0.25em;background-color: #f0f8ff;}#sk-container-id-1 input.sk-toggleable__control:checked~div.sk-toggleable__content {max-height: 200px;max-width: 100%;overflow: auto;}#sk-container-id-1 input.sk-toggleable__control:checked~label.sk-toggleable__label-arrow:before {content: \"▾\";}#sk-container-id-1 div.sk-estimator input.sk-toggleable__control:checked~label.sk-toggleable__label {background-color: #d4ebff;}#sk-container-id-1 div.sk-label input.sk-toggleable__control:checked~label.sk-toggleable__label {background-color: #d4ebff;}#sk-container-id-1 input.sk-hidden--visually {border: 0;clip: rect(1px 1px 1px 1px);clip: rect(1px, 1px, 1px, 1px);height: 1px;margin: -1px;overflow: hidden;padding: 0;position: absolute;width: 1px;}#sk-container-id-1 div.sk-estimator {font-family: monospace;background-color: #f0f8ff;border: 1px dotted black;border-radius: 0.25em;box-sizing: border-box;margin-bottom: 0.5em;}#sk-container-id-1 div.sk-estimator:hover {background-color: #d4ebff;}#sk-container-id-1 div.sk-parallel-item::after {content: \"\";width: 100%;border-bottom: 1px solid gray;flex-grow: 1;}#sk-container-id-1 div.sk-label:hover label.sk-toggleable__label {background-color: #d4ebff;}#sk-container-id-1 div.sk-serial::before {content: \"\";position: absolute;border-left: 1px solid gray;box-sizing: border-box;top: 0;bottom: 0;left: 50%;z-index: 0;}#sk-container-id-1 div.sk-serial {display: flex;flex-direction: column;align-items: center;background-color: white;padding-right: 0.2em;padding-left: 0.2em;position: relative;}#sk-container-id-1 div.sk-item {position: relative;z-index: 1;}#sk-container-id-1 div.sk-parallel {display: flex;align-items: stretch;justify-content: center;background-color: white;position: relative;}#sk-container-id-1 div.sk-item::before, #sk-container-id-1 div.sk-parallel-item::before {content: \"\";position: absolute;border-left: 1px solid gray;box-sizing: border-box;top: 0;bottom: 0;left: 50%;z-index: -1;}#sk-container-id-1 div.sk-parallel-item {display: flex;flex-direction: column;z-index: 1;position: relative;background-color: white;}#sk-container-id-1 div.sk-parallel-item:first-child::after {align-self: flex-end;width: 50%;}#sk-container-id-1 div.sk-parallel-item:last-child::after {align-self: flex-start;width: 50%;}#sk-container-id-1 div.sk-parallel-item:only-child::after {width: 0;}#sk-container-id-1 div.sk-dashed-wrapped {border: 1px dashed gray;margin: 0 0.4em 0.5em 0.4em;box-sizing: border-box;padding-bottom: 0.4em;background-color: white;}#sk-container-id-1 div.sk-label label {font-family: monospace;font-weight: bold;display: inline-block;line-height: 1.2em;}#sk-container-id-1 div.sk-label-container {text-align: center;}#sk-container-id-1 div.sk-container {/* jupyter's `normalize.less` sets `[hidden] { display: none; }` but bootstrap.min.css set `[hidden] { display: none !important; }` so we also need the `!important` here to be able to override the default hidden behavior on the sphinx rendered scikit-learn.org. See: https://github.com/scikit-learn/scikit-learn/issues/21755 */display: inline-block !important;position: relative;}#sk-container-id-1 div.sk-text-repr-fallback {display: none;}</style><div id=\"sk-container-id-1\" class=\"sk-top-container\"><div class=\"sk-text-repr-fallback\"><pre>RandomForestRegressor(n_estimators=1000, random_state=50)</pre><b>In a Jupyter environment, please rerun this cell to show the HTML representation or trust the notebook. <br />On GitHub, the HTML representation is unable to render, please try loading this page with nbviewer.org.</b></div><div class=\"sk-container\" hidden><div class=\"sk-item\"><div class=\"sk-estimator sk-toggleable\"><input class=\"sk-toggleable__control sk-hidden--visually\" id=\"sk-estimator-id-1\" type=\"checkbox\" checked><label for=\"sk-estimator-id-1\" class=\"sk-toggleable__label sk-toggleable__label-arrow\">RandomForestRegressor</label><div class=\"sk-toggleable__content\"><pre>RandomForestRegressor(n_estimators=1000, random_state=50)</pre></div></div></div></div></div>"
            ]
          },
          "metadata": {},
          "execution_count": 13
        }
      ]
    },
    {
      "cell_type": "markdown",
      "source": [
        "**PREDICTION OUTPUT**"
      ],
      "metadata": {
        "id": "T7tq-RkgFSIT"
      }
    },
    {
      "cell_type": "code",
      "source": [
        "y_pred = regressor.predict(xValid)\n",
        "y_pred"
      ],
      "metadata": {
        "id": "gkMsPPu9OAWB",
        "colab": {
          "base_uri": "https://localhost:8080/"
        },
        "outputId": "a322f286-e053-410a-aa0b-2e9e23db5382"
      },
      "execution_count": 14,
      "outputs": [
        {
          "output_type": "execute_result",
          "data": {
            "text/plain": [
              "array([1., 1., 1., ..., 1., 1., 1.])"
            ]
          },
          "metadata": {},
          "execution_count": 14
        }
      ]
    },
    {
      "cell_type": "code",
      "source": [
        "y_pred = pd.DataFrame(y_pred, columns=['y Predict'])\n",
        "print(\"y pred : \\n\",y_pred)\n",
        "print(\"y valid : \\n\",yValid)"
      ],
      "metadata": {
        "colab": {
          "base_uri": "https://localhost:8080/"
        },
        "id": "w1iHEyUPAFIt",
        "outputId": "51d57a13-3db1-448c-b46f-9c0fb2b8e773"
      },
      "execution_count": 15,
      "outputs": [
        {
          "output_type": "stream",
          "name": "stdout",
          "text": [
            "y pred : \n",
            "       y Predict\n",
            "0           1.0\n",
            "1           1.0\n",
            "2           1.0\n",
            "3           1.0\n",
            "4           1.0\n",
            "...         ...\n",
            "6277        1.0\n",
            "6278        1.0\n",
            "6279        1.0\n",
            "6280        1.0\n",
            "6281        1.0\n",
            "\n",
            "[6282 rows x 1 columns]\n",
            "y valid : \n",
            "        Status\n",
            "10178       1\n",
            "5536        1\n",
            "15054       1\n",
            "6364        1\n",
            "20787       1\n",
            "...       ...\n",
            "17404       1\n",
            "7241        1\n",
            "11495       1\n",
            "3669        1\n",
            "3997        1\n",
            "\n",
            "[6282 rows x 1 columns]\n"
          ]
        }
      ]
    },
    {
      "cell_type": "markdown",
      "source": [
        "**GRAPH PLOT**"
      ],
      "metadata": {
        "id": "2zXfWDLWFlhq"
      }
    },
    {
      "cell_type": "code",
      "source": [
        "plt.figure(figsize = (10,5))\n",
        "plt.scatter(yValid, y_pred, color='red', label='Comparison between Actual and Prediction data')\n",
        "plt.legend()\n",
        "plt.grid()\n",
        "plt.title('Random Forest Regression')\n",
        "plt.xlabel('Prediction Data')\n",
        "plt.ylabel('Actual Data')\n",
        "plt.show()"
      ],
      "metadata": {
        "colab": {
          "base_uri": "https://localhost:8080/",
          "height": 487
        },
        "id": "Q868NyhjCGtZ",
        "outputId": "765155ff-4cb2-4944-d263-0e07365a282a"
      },
      "execution_count": 16,
      "outputs": [
        {
          "output_type": "display_data",
          "data": {
            "text/plain": [
              "<Figure size 1000x500 with 1 Axes>"
            ],
            "image/png": "[encoded data removed]"
          },
          "metadata": {}
        }
      ]
    },
    {
      "cell_type": "markdown",
      "source": [
        "**EVALUATION**"
      ],
      "metadata": {
        "id": "23vsnZQeFw5C"
      }
    },
    {
      "cell_type": "code",
      "source": [
        "metrics.r2_score(yValid, y_pred)"
      ],
      "metadata": {
        "colab": {
          "base_uri": "https://localhost:8080/"
        },
        "id": "rhfye7SqD7gU",
        "outputId": "ece176e7-0d5e-4ef3-ce55-04f47791f933"
      },
      "execution_count": 17,
      "outputs": [
        {
          "output_type": "execute_result",
          "data": {
            "text/plain": [
              "0.9413317738"
            ]
          },
          "metadata": {},
          "execution_count": 17
        }
      ]
    },
    {
      "cell_type": "markdown",
      "source": [
        "**PREDICTING LABEL FOR NEW USER**"
      ],
      "metadata": {
        "id": "fyulaeL1ugrR"
      }
    },
    {
      "cell_type": "code",
      "source": [
        "new_user_data = {}\n",
        "print(\"Enter data of the new user to predict\\n\")\n",
        "user_data = pd.DataFrame(columns=[column for column in xVars.columns])\n",
        "\n",
        "for column in user_data.columns:\n",
        "  value = int(input(f\"Enter value for {column} : \"))\n",
        "  new_user_data[column] = value\n",
        "\n",
        "# Use the loc method to add the new row to the DataFrame\n",
        "user_data.loc[len(user_data)] = new_user_data\n",
        "  \n",
        "print(\"\\nUser_data : \\n\\n\",user_data)\n",
        "user_pred = regressor.predict(user_data)\n",
        "print(\"\\nThe predicted status for the user is : \",user_pred[user_pred.argmax()])"
      ],
      "metadata": {
        "colab": {
          "base_uri": "https://localhost:8080/"
        },
        "id": "K84ItRpSLAmO",
        "outputId": "82a5883a-fe30-4dc4-d373-59c9caf42a8f"
      },
      "execution_count": null,
      "outputs": [
        {
          "output_type": "stream",
          "name": "stdout",
          "text": [
            "Enter data of the new user to predict\n",
            "\n",
            "Enter value for Owned_Car : 1\n",
            "Enter value for Owned_Realty : 1\n",
            "Enter value for Total_Children : 1\n",
            "Enter value for Owned_Mobile_Phone : 1\n",
            "Enter value for Owned_Work_Phone : 1\n",
            "Enter value for Owned_Phone : 1\n",
            "Enter value for Owned_Email : 1\n",
            "Enter value for Total_Family_Members : 4\n",
            "Enter value for Applicant_Age : 34\n",
            "Enter value for Years_of_Working : 6\n",
            "Enter value for Total_Bad_Debt : 1\n",
            "Enter value for Total_Good_Debt : 2\n",
            "\n",
            "User_data : \n",
            "\n",
            "    Owned_Car  Owned_Realty  Total_Children  Owned_Mobile_Phone  \\\n",
            "0          1             1               1                   1   \n",
            "\n",
            "   Owned_Work_Phone  Owned_Phone  Owned_Email  Total_Family_Members  \\\n",
            "0                 1            1            1                     4   \n",
            "\n",
            "   Applicant_Age  Years_of_Working  Total_Bad_Debt  Total_Good_Debt  \n",
            "0             34                 6               1                2  \n",
            "\n",
            "The predicted status for the user is :  0.983\n"
          ]
        }
      ]
    }
  ]
}